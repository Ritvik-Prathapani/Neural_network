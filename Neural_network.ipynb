{
 "cells": [
  {
   "cell_type": "code",
   "execution_count": 43,
   "id": "692be265-a2f5-438a-875f-983510823065",
   "metadata": {},
   "outputs": [],
   "source": [
    "import torch\n",
    "import torch.nn as nn\n",
    "import torch.nn.functional as F"
   ]
  },
  {
   "cell_type": "code",
   "execution_count": 44,
   "id": "6201daff-a44e-477f-8c13-08e65dbff898",
   "metadata": {},
   "outputs": [],
   "source": [
    "class Model(nn.Module):\n",
    "    def __init__(self,in_features=4,h1=8,h2=8,out_features=3):\n",
    "        super(Model,self).__init__()\n",
    "        self.fc1=nn.Linear(in_features,h1)\n",
    "        self.fc2=nn.Linear(h1,h2)\n",
    "        self.fc3=nn.Linear(h2,out_features)\n",
    "\n",
    "    def forward(self,x):\n",
    "        x=F.relu(self.fc1(x))\n",
    "        x=F.relu(self.fc2(x))\n",
    "        x=self.fc3(x)\n",
    "        return x\n",
    "        "
   ]
  },
  {
   "cell_type": "code",
   "execution_count": 45,
   "id": "4d1f2d9c-4e22-4881-9624-8223419fca06",
   "metadata": {},
   "outputs": [],
   "source": [
    "torch.manual_seed(41)\n",
    "model = Model()"
   ]
  },
  {
   "cell_type": "code",
   "execution_count": 46,
   "id": "b6c56a5d-b646-430c-94c5-c7e6332ec615",
   "metadata": {},
   "outputs": [],
   "source": [
    "import pandas as pd\n",
    "import matplotlib.pyplot as plt\n",
    "%matplotlib inline"
   ]
  },
  {
   "cell_type": "code",
   "execution_count": 47,
   "id": "207adee2-387c-410f-9854-a79c03eb9fd1",
   "metadata": {},
   "outputs": [],
   "source": [
    "df=pd.read_csv('iris.csv')"
   ]
  },
  {
   "cell_type": "code",
   "execution_count": 48,
   "id": "d7da7d81-6744-4cc7-81af-91dafae1e391",
   "metadata": {},
   "outputs": [],
   "source": [
    "label_mapping = {'Setosa': 0, 'Versicolor': 1, 'Virginica': 2}\n",
    "df['variety'] = df['variety'].map(label_mapping)"
   ]
  },
  {
   "cell_type": "code",
   "execution_count": 49,
   "id": "bf584796-9ce4-40a3-beca-cd7539e38092",
   "metadata": {},
   "outputs": [],
   "source": [
    "X=df.drop('variety',axis=1)\n",
    "y=df['variety']\n",
    "X=X.values\n",
    "y=y.values"
   ]
  },
  {
   "cell_type": "code",
   "execution_count": 50,
   "id": "7484a795-876b-444e-9cf3-4a855f938d77",
   "metadata": {},
   "outputs": [],
   "source": [
    "from sklearn.model_selection import train_test_split"
   ]
  },
  {
   "cell_type": "code",
   "execution_count": 51,
   "id": "afd3f541-3912-4981-8edb-4691d88b86e9",
   "metadata": {},
   "outputs": [],
   "source": [
    "X_train,X_test,y_train,y_test=train_test_split(X,y,test_size=0.2,random_state=41)"
   ]
  },
  {
   "cell_type": "code",
   "execution_count": 52,
   "id": "ed9e1d06-789a-42b0-a559-218326fa9e9c",
   "metadata": {},
   "outputs": [],
   "source": [
    "X_train = torch.FloatTensor(X_train)\n",
    "X_test = torch.FloatTensor(X_test)"
   ]
  },
  {
   "cell_type": "code",
   "execution_count": 53,
   "id": "b8647ea5-4242-4eee-b453-b0b22ce4d294",
   "metadata": {},
   "outputs": [],
   "source": [
    "y_train = torch.LongTensor(y_train)\n",
    "y_test = torch.LongTensor(y_test)"
   ]
  },
  {
   "cell_type": "code",
   "execution_count": 54,
   "id": "19185fbf-c58d-47ef-8c05-f42481173832",
   "metadata": {},
   "outputs": [],
   "source": [
    "criterion = nn.CrossEntropyLoss()\n",
    "optimizer = torch.optim.Adam(model.parameters(),lr=0.01)"
   ]
  },
  {
   "cell_type": "code",
   "execution_count": 55,
   "id": "7413d243-5741-4b0c-8ef5-3eb8fbb5f2a8",
   "metadata": {},
   "outputs": [
    {
     "name": "stdout",
     "output_type": "stream",
     "text": [
      "Epoch: 0 and loss: 1.1318365335464478\n",
      "Epoch: 10 and loss: 0.9658561944961548\n",
      "Epoch: 20 and loss: 0.6789938807487488\n",
      "Epoch: 30 and loss: 0.40048947930336\n",
      "Epoch: 40 and loss: 0.22509503364562988\n",
      "Epoch: 50 and loss: 0.12207334488630295\n",
      "Epoch: 60 and loss: 0.07481689751148224\n",
      "Epoch: 70 and loss: 0.054512787610292435\n",
      "Epoch: 80 and loss: 0.044374898076057434\n",
      "Epoch: 90 and loss: 0.03837943449616432\n",
      "Epoch: 100 and loss: 0.03434774652123451\n",
      "Epoch: 110 and loss: 0.03137679398059845\n",
      "Epoch: 120 and loss: 0.029055016115307808\n",
      "Epoch: 130 and loss: 0.027161752805113792\n",
      "Epoch: 140 and loss: 0.025570685043931007\n",
      "Epoch: 150 and loss: 0.024206873029470444\n",
      "Epoch: 160 and loss: 0.023014331236481667\n",
      "Epoch: 170 and loss: 0.021955009549856186\n",
      "Epoch: 180 and loss: 0.021001268178224564\n",
      "Epoch: 190 and loss: 0.020137611776590347\n"
     ]
    }
   ],
   "source": [
    "epochs=200\n",
    "losses = []\n",
    "for i in range(epochs):\n",
    "    y_pred=model.forward(X_train)\n",
    "    loss = criterion(y_pred,y_train)\n",
    "    losses.append(loss.detach().numpy())\n",
    "    if i%10==0:\n",
    "        print(f'Epoch: {i} and loss: {loss}')\n",
    "    optimizer.zero_grad()\n",
    "    loss.backward()\n",
    "    optimizer.step()"
   ]
  },
  {
   "cell_type": "code",
   "execution_count": 56,
   "id": "6d69b465-f4b2-4466-aa5e-585f4eb1189e",
   "metadata": {},
   "outputs": [
    {
     "data": {
      "text/plain": [
       "[<matplotlib.lines.Line2D at 0x7f39f08e7b90>]"
      ]
     },
     "execution_count": 56,
     "metadata": {},
     "output_type": "execute_result"
    },
    {
     "data": {
      "image/png": "[encoded data removed]",
      "text/plain": [
       "<Figure size 640x480 with 1 Axes>"
      ]
     },
     "metadata": {},
     "output_type": "display_data"
    }
   ],
   "source": [
    "plt.plot(range(epochs),losses)\n"
   ]
  },
  {
   "cell_type": "code",
   "execution_count": null,
   "id": "7b399669-a402-45ca-9682-48c13304122d",
   "metadata": {},
   "outputs": [],
   "source": []
  }
 ],
 "metadata": {
  "kernelspec": {
   "display_name": "Python 3 (ipykernel)",
   "language": "python",
   "name": "python3"
  },
  "language_info": {
   "codemirror_mode": {
    "name": "ipython",
    "version": 3
   },
   "file_extension": ".py",
   "mimetype": "text/x-python",
   "name": "python",
   "nbconvert_exporter": "python",
   "pygments_lexer": "ipython3",
   "version": "3.11.5"
  }
 },
 "nbformat": 4,
 "nbformat_minor": 5
}
